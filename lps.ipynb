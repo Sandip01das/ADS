{
 "cells": [
  {
   "cell_type": "code",
   "execution_count": 5,
   "id": "2a46c158",
   "metadata": {},
   "outputs": [
    {
     "name": "stdout",
     "output_type": "stream",
     "text": [
      "enter the pattern: ababaca\n",
      "Longest Prefix Suffix (LPS) array: [0, 0, 1, 2, 3, 0, 1]\n"
     ]
    }
   ],
   "source": [
    "def compute_lps(pattern):\n",
    "    length = 0\n",
    "    lps = [0] * len(pattern)\n",
    "    i = 1\n",
    "\n",
    "    while i < len(pattern):\n",
    "        if pattern[i] == pattern[length]:\n",
    "            length += 1\n",
    "            lps[i] = length\n",
    "            i += 1\n",
    "        else:\n",
    "            if length != 0:\n",
    "                length = lps[length - 1]\n",
    "            else:\n",
    "                lps[i] = 0\n",
    "                i += 1\n",
    "    print(\"Longest Prefix Suffix (LPS) array:\", lps)\n",
    "pattern = input(\"enter the pattern: \")\n",
    "compute_lps(pattern)"
   ]
  },
  {
   "cell_type": "code",
   "execution_count": null,
   "id": "0295b3f1",
   "metadata": {},
   "outputs": [],
   "source": []
  }
 ],
 "metadata": {
  "kernelspec": {
   "display_name": "Python 3 (ipykernel)",
   "language": "python",
   "name": "python3"
  },
  "language_info": {
   "codemirror_mode": {
    "name": "ipython",
    "version": 3
   },
   "file_extension": ".py",
   "mimetype": "text/x-python",
   "name": "python",
   "nbconvert_exporter": "python",
   "pygments_lexer": "ipython3",
   "version": "3.9.13"
  }
 },
 "nbformat": 4,
 "nbformat_minor": 5
}
