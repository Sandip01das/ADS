{
 "cells": [
  {
   "cell_type": "code",
   "execution_count": 11,
   "id": "73d77c62",
   "metadata": {},
   "outputs": [
    {
     "name": "stdout",
     "output_type": "stream",
     "text": [
      "Enter the text:MAULANAABULKALAMAZAD\n",
      "Enter the pattern to search:AZAD\n",
      "Pattern found at index 16\n"
     ]
    }
   ],
   "source": [
    "def naive_string_matching(text,pattern):\n",
    "    n=len(text)\n",
    "    m=len(pattern)\n",
    "    \n",
    "    for i in range(n-m+1):\n",
    "        j=0\n",
    "        while j<m and (text[i+j]==pattern[j]):\n",
    "            j+=1\n",
    "        if j==m:\n",
    "            print(\"Pattern found at index\",i)\n",
    "            return\n",
    "    print(\"No match found\")\n",
    "\n",
    "text=input(\"Enter the text:\")\n",
    "pattern=input(\"Enter the pattern to search:\")\n",
    "naive_string_matching(text,pattern)"
   ]
  },
  {
   "cell_type": "code",
   "execution_count": null,
   "id": "0b94a74d",
   "metadata": {},
   "outputs": [],
   "source": []
  }
 ],
 "metadata": {
  "kernelspec": {
   "display_name": "Python 3 (ipykernel)",
   "language": "python",
   "name": "python3"
  },
  "language_info": {
   "codemirror_mode": {
    "name": "ipython",
    "version": 3
   },
   "file_extension": ".py",
   "mimetype": "text/x-python",
   "name": "python",
   "nbconvert_exporter": "python",
   "pygments_lexer": "ipython3",
   "version": "3.9.13"
  }
 },
 "nbformat": 4,
 "nbformat_minor": 5
}
