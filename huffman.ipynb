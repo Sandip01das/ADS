{
 "cells": [
  {
   "cell_type": "code",
   "execution_count": 1,
   "id": "5c92cd9e-ae2d-439d-a720-c76f6ba6e512",
   "metadata": {},
   "outputs": [
    {
     "name": "stdout",
     "output_type": "stream",
     "text": [
      "Original data: hello world\n",
      "Encoded data: 11101111101011000000111001010011\n",
      "Decoded data: hello world\n"
     ]
    }
   ],
   "source": [
    "class Node:\n",
    "    def __init__(self, char=None, freq=None):\n",
    "        self.char = char\n",
    "        self.freq = freq\n",
    "        self.left = None\n",
    "        self.right = None\n",
    "\n",
    "    def __lt__(self, other):\n",
    "        return self.freq < other.freq\n",
    "\n",
    "def build_huffman_tree(data):\n",
    "    freq_dict = {}\n",
    "    for char in data:\n",
    "        freq_dict[char] = freq_dict.get(char, 0) + 1\n",
    "\n",
    "    heap = [Node(char, freq) for char, freq in freq_dict.items()]\n",
    "\n",
    "    while len(heap) > 1:\n",
    "        left = min(heap, key=lambda x: x.freq)\n",
    "        heap.remove(left)\n",
    "        right = min(heap, key=lambda x: x.freq)\n",
    "        heap.remove(right)\n",
    "\n",
    "        merged = Node(freq=left.freq + right.freq)\n",
    "        merged.left, merged.right = left, right\n",
    "        heap.append(merged)\n",
    "\n",
    "    return heap[0]\n",
    "\n",
    "def build_huffman_codes(node, current_code=\"\", codes=None):\n",
    "    if codes is None:\n",
    "        codes = {}\n",
    "\n",
    "    if node is not None:\n",
    "        if node.char is not None:\n",
    "            codes[node.char] = current_code\n",
    "        build_huffman_codes(node.left, current_code + \"0\", codes)\n",
    "        build_huffman_codes(node.right, current_code + \"1\", codes)\n",
    "\n",
    "    return codes\n",
    "\n",
    "def huffman_encode(data):\n",
    "    root = build_huffman_tree(data)\n",
    "    codes = build_huffman_codes(root)\n",
    "    encoded_data = ''.join(codes[char] for char in data)\n",
    "    return encoded_data, codes\n",
    "\n",
    "def huffman_decode(encoded_data, codes):\n",
    "    reversed_codes = {code: char for char, code in codes.items()}\n",
    "    current_code = \"\"\n",
    "    decoded_data = \"\"\n",
    "\n",
    "    for bit in encoded_data:\n",
    "        current_code += bit\n",
    "        if current_code in reversed_codes:\n",
    "            decoded_data += reversed_codes[current_code]\n",
    "            current_code = \"\"\n",
    "\n",
    "    return decoded_data\n",
    "\n",
    "# Example usage:\n",
    "data = \"hello world\"\n",
    "encoded_data, huffman_codes = huffman_encode(data)\n",
    "decoded_data = huffman_decode(encoded_data, huffman_codes)\n",
    "\n",
    "print(\"Original data:\", data)\n",
    "print(\"Encoded data:\", encoded_data)\n",
    "print(\"Decoded data:\", decoded_data)\n"
   ]
  },
  {
   "cell_type": "code",
   "execution_count": null,
   "id": "9cd5aa09-50f8-454d-81db-6eb5f1b1803f",
   "metadata": {},
   "outputs": [],
   "source": []
  }
 ],
 "metadata": {
  "kernelspec": {
   "display_name": "Python 3 (ipykernel)",
   "language": "python",
   "name": "python3"
  },
  "language_info": {
   "codemirror_mode": {
    "name": "ipython",
    "version": 3
   },
   "file_extension": ".py",
   "mimetype": "text/x-python",
   "name": "python",
   "nbconvert_exporter": "python",
   "pygments_lexer": "ipython3",
   "version": "3.10.6"
  }
 },
 "nbformat": 4,
 "nbformat_minor": 5
}
