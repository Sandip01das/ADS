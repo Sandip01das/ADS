{
 "cells": [
  {
   "cell_type": "code",
   "execution_count": 1,
   "id": "5c92cd9e-ae2d-439d-a720-c76f6ba6e512",
   "metadata": {},
   "outputs": [
    {
     "name": "stdout",
     "output_type": "stream",
     "text": [
      "Original Data: hello world\n",
      "Encoded Data: 11101111101011000000111001010011\n",
      "Decoded Data: hello world\n"
     ]
    }
   ],
   "source": [
    "class Node:\n",
    "    def __init__(self, char=None, frequency=None):\n",
    "        self.char = char\n",
    "        self.frequency = frequency\n",
    "        self.left = None\n",
    "        self.right = None\n",
    "\n",
    "def build_huffman_tree(data):\n",
    "    frequency = {}\n",
    "    for char in data:\n",
    "        frequency[char] = frequency.get(char, 0) + 1\n",
    "\n",
    "    nodes = [Node(char=c, frequency=f) for c, f in frequency.items()]\n",
    "\n",
    "    while len(nodes) > 1:\n",
    "        nodes = sorted(nodes, key=lambda x: x.frequency)\n",
    "        left = nodes.pop(0)\n",
    "        right = nodes.pop(0)\n",
    "        merged = Node(frequency=left.frequency + right.frequency)\n",
    "        merged.left = left\n",
    "        merged.right = right\n",
    "        nodes.append(merged)\n",
    "\n",
    "    return nodes[0]\n",
    "\n",
    "def build_huffman_codes(node, current_code=\"\", codes=None):\n",
    "    if codes is None:\n",
    "        codes = {}\n",
    "    if node is not None:\n",
    "        if node.char is not None:\n",
    "            codes[node.char] = current_code\n",
    "        build_huffman_codes(node.left, current_code + \"0\", codes)\n",
    "        build_huffman_codes(node.right, current_code + \"1\", codes)\n",
    "    return codes\n",
    "\n",
    "def huffman_encode(data):\n",
    "    root = build_huffman_tree(data)\n",
    "    codes = build_huffman_codes(root)\n",
    "    encoded_data = ''.join(codes[char] for char in data)\n",
    "    return encoded_data, codes\n",
    "\n",
    "def huffman_decode(encoded_data, codes):\n",
    "    decoded_data = \"\"\n",
    "    current_code = \"\"\n",
    "    for bit in encoded_data:\n",
    "        current_code += bit\n",
    "        for char, code in codes.items():\n",
    "            if current_code == code:\n",
    "                decoded_data += char\n",
    "                current_code = \"\"\n",
    "                break\n",
    "    return decoded_data\n",
    "\n",
    "# Example usage:\n",
    "data = \"hello world\"\n",
    "encoded_data, codes = huffman_encode(data)\n",
    "decoded_data = huffman_decode(encoded_data, codes)\n",
    "\n",
    "print(\"Original Data:\", data)\n",
    "print(\"Encoded Data:\", encoded_data)\n",
    "print(\"Decoded Data:\", decoded_data)\n"
   ]
  },
  {
   "cell_type": "code",
   "execution_count": null,
   "id": "9cd5aa09-50f8-454d-81db-6eb5f1b1803f",
   "metadata": {},
   "outputs": [],
   "source": []
  }
 ],
 "metadata": {
  "kernelspec": {
   "display_name": "Python 3 (ipykernel)",
   "language": "python",
   "name": "python3"
  },
  "language_info": {
   "codemirror_mode": {
    "name": "ipython",
    "version": 3
   },
   "file_extension": ".py",
   "mimetype": "text/x-python",
   "name": "python",
   "nbconvert_exporter": "python",
   "pygments_lexer": "ipython3",
   "version": "3.10.6"
  }
 },
 "nbformat": 4,
 "nbformat_minor": 5
}
