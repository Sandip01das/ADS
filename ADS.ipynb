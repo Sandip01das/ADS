{
 "cells": [
  {
   "cell_type": "code",
   "execution_count": 2,
   "id": "5f18a785",
   "metadata": {},
   "outputs": [
    {
     "name": "stdout",
     "output_type": "stream",
     "text": [
      "Enter the array elements: 1,2,3,4,5,6\n",
      "length of array is:  6\n",
      "The original array elements are:\n",
      "a[0] = 1\n",
      "a[1] = 2\n",
      "a[2] = 3\n",
      "a[3] = 4\n",
      "a[4] = 5\n",
      "a[5] = 6\n",
      "Enter the index of the element to delete: 2\n",
      "The array elements after deletion:\n",
      "a[0] = 1\n",
      "a[1] = 2\n",
      "a[2] = 4\n",
      "a[3] = 5\n",
      "a[4] = 6\n"
     ]
    }
   ],
   "source": [
    "##Delete an element from an array from a specific position \n",
    "element= input(\"Enter the array elements: \")\n",
    "\n",
    "a = [int(x) for x in element.split(',')]\n",
    "\n",
    "n = len(a)\n",
    "print(\"length of array is: \",n)\n",
    "\n",
    "print(\"The original array elements are:\")\n",
    "for i in range(n):\n",
    "    print(f\"a[{i}] = {a[i]}\")\n",
    "index_to_delete = int(input(\"Enter the index of the element to delete: \"))\n",
    "\n",
    "if 0 <= index_to_delete < n:\n",
    "    a = a[:index_to_delete] + a[index_to_delete + 1:]\n",
    "    n = n - 1\n",
    "\n",
    "    print(\"The array elements after deletion:\")\n",
    "    for i in range(n):\n",
    "        print(f\"a[{i}] = {a[i]}\")\n",
    "else:\n",
    "    print(\"Invalid index. Please enter a valid index within the range.\")\n"
   ]
  },
  {
   "cell_type": "code",
   "execution_count": 5,
   "id": "82907e82",
   "metadata": {},
   "outputs": [
    {
     "name": "stdout",
     "output_type": "stream",
     "text": [
      "Enter elements in the array separated by spaces: 1,2,3,4,5,6,7\n",
      "6\n",
      "7\n",
      "8\n",
      "9\n",
      "10\n",
      "11\n",
      "12\n"
     ]
    }
   ],
   "source": [
    "# Traversing an array and adding 5 to each element while printing.\n",
    "    \n",
    "input_str = input(\"Enter elements in the array separated by spaces: \")\n",
    "array = [int(x) for x in input_str.split(',')]\n",
    "\n",
    "# Convert elements to integers and add 5 to each\n",
    "for x in array:\n",
    "    new_element = int(x) + 5\n",
    "    print(new_element)"
   ]
  },
  {
   "cell_type": "code",
   "execution_count": null,
   "id": "5f20374f",
   "metadata": {},
   "outputs": [],
   "source": [
    "def cross_product(matrix1, matrix2):\n",
    "    if len(matrix1) != 3 or len(matrix1[0]) != 3 or len(matrix2) != 3 or len(matrix2[0]) != 3:\n",
    "        return ValueError(\"Both matrices must be 3x3 matrices.\")\n",
    "\n",
    "    result = [[0, 0, 0], [0, 0, 0], [0, 0, 0]]\n",
    "\n",
    "    for i in range(3):\n",
    "        for j in range(3):\n",
    "            for k in range(3):\n",
    "                result[i][j] += matrix1[i][k] * matrix2[k][j]\n",
    "\n",
    "    return result\n",
    "\n",
    "def input_matrix():\n",
    "    matrix = []\n",
    "    print(\"Enter elements for a 3x3 matrix:\")\n",
    "    for i in range(3):\n",
    "        row = []\n",
    "        for j in range(3):\n",
    "            element = float(input(f\"Enter element at row {i + 1}, column {j + 1}: \"))\n",
    "            row.append(element)\n",
    "        matrix.append(row)\n",
    "    return matrix\n",
    "\n",
    "print(\"Enter elements for the first 3x3 matrix:\")\n",
    "matrix1 = input_matrix()\n",
    "\n",
    "print(\"Enter elements for the second 3x3 matrix:\")\n",
    "matrix2 = input_matrix()\n",
    "\n",
    "\n",
    "cross_result = cross_product(matrix1, matrix2)\n",
    "for row in cross_result:\n",
    "    print(row)\n"
   ]
  },
  {
   "cell_type": "code",
   "execution_count": 14,
   "id": "7be073d5",
   "metadata": {},
   "outputs": [
    {
     "name": "stdout",
     "output_type": "stream",
     "text": [
      "Enter elements for the first vector: 1,2,3\n",
      "Enter elements for the second vector: 2,3,4\n",
      "The dot product of the two vectors is: 20\n"
     ]
    }
   ],
   "source": [
    "def dot_product(vector1, vector2):\n",
    "    if len(vector1) != len(vector2):\n",
    "        raise ValueError(\"Vectors must have the same length\")\n",
    "\n",
    "    dot_product = 0\n",
    "\n",
    "    for i in range(len(vector1)):\n",
    "        dot_product += vector1[i] * vector2[i]\n",
    "\n",
    "    return dot_product\n",
    "\n",
    "\n",
    "vector1 = [int(x) for x in input(\"Enter elements for the first vector: \").split(',')]\n",
    "vector2 = [int(x) for x in input(\"Enter elements for the second vector: \").split(',')]\n",
    "\n",
    "result = dot_product(vector1, vector2)\n",
    "print(\"The dot product of the two vectors is:\",result)\n",
    "\n",
    "\n"
   ]
  },
  {
   "cell_type": "code",
   "execution_count": 26,
   "id": "73209c9b",
   "metadata": {},
   "outputs": [
    {
     "name": "stdout",
     "output_type": "stream",
     "text": [
      "Enter elements for the first 3x3 matrix:\n",
      "Enter elements for a 3x3 matrix:\n",
      "Enter element at row 1, column 1: 1\n",
      "Enter element at row 1, column 2: 2\n",
      "Enter element at row 1, column 3: 3\n",
      "Enter element at row 2, column 1: 4\n",
      "Enter element at row 2, column 2: 5\n",
      "Enter element at row 2, column 3: 6\n",
      "Enter element at row 3, column 1: 7\n",
      "Enter element at row 3, column 2: 8\n",
      "Enter element at row 3, column 3: 9\n",
      "Enter elements for the second 3x3 matrix:\n",
      "Enter elements for a 3x3 matrix:\n",
      "Enter element at row 1, column 1: 2\n",
      "Enter element at row 1, column 2: 3\n",
      "Enter element at row 1, column 3: 4\n",
      "Enter element at row 2, column 1: 5\n",
      "Enter element at row 2, column 2: 6\n",
      "Enter element at row 2, column 3: 7\n",
      "Enter element at row 3, column 1: 8\n",
      "Enter element at row 3, column 2: 9\n",
      "Enter element at row 3, column 3: 3\n"
     ]
    },
    {
     "ename": "TypeError",
     "evalue": "can't multiply sequence by non-int of type 'list'",
     "output_type": "error",
     "traceback": [
      "\u001b[1;31m---------------------------------------------------------------------------\u001b[0m",
      "\u001b[1;31mTypeError\u001b[0m                                 Traceback (most recent call last)",
      "\u001b[1;32m~\\AppData\\Local\\Temp\\ipykernel_8148\\3552910960.py\u001b[0m in \u001b[0;36m<module>\u001b[1;34m\u001b[0m\n\u001b[0;32m     23\u001b[0m \u001b[0mvector2\u001b[0m \u001b[1;33m=\u001b[0m \u001b[0minput_matrix\u001b[0m\u001b[1;33m(\u001b[0m\u001b[1;33m)\u001b[0m\u001b[1;33m\u001b[0m\u001b[1;33m\u001b[0m\u001b[0m\n\u001b[0;32m     24\u001b[0m     \u001b[1;31m# Calculate the dot product\u001b[0m\u001b[1;33m\u001b[0m\u001b[1;33m\u001b[0m\u001b[0m\n\u001b[1;32m---> 25\u001b[1;33m \u001b[0mresult\u001b[0m \u001b[1;33m=\u001b[0m \u001b[0mdot_product\u001b[0m\u001b[1;33m(\u001b[0m\u001b[0mvector1\u001b[0m\u001b[1;33m,\u001b[0m \u001b[0mvector2\u001b[0m\u001b[1;33m)\u001b[0m\u001b[1;33m\u001b[0m\u001b[1;33m\u001b[0m\u001b[0m\n\u001b[0m\u001b[0;32m     26\u001b[0m \u001b[0mprint\u001b[0m\u001b[1;33m(\u001b[0m\u001b[1;34mf\"The dot product of the two vectors is: {result}\"\u001b[0m\u001b[1;33m)\u001b[0m\u001b[1;33m\u001b[0m\u001b[1;33m\u001b[0m\u001b[0m\n",
      "\u001b[1;32m~\\AppData\\Local\\Temp\\ipykernel_8148\\3552910960.py\u001b[0m in \u001b[0;36mdot_product\u001b[1;34m(vector1, vector2)\u001b[0m\n\u001b[0;32m      3\u001b[0m         \u001b[1;32mraise\u001b[0m \u001b[0mValueError\u001b[0m\u001b[1;33m(\u001b[0m\u001b[1;34m\"Both vectors must have the same number of elements.\"\u001b[0m\u001b[1;33m)\u001b[0m\u001b[1;33m\u001b[0m\u001b[1;33m\u001b[0m\u001b[0m\n\u001b[0;32m      4\u001b[0m \u001b[1;33m\u001b[0m\u001b[0m\n\u001b[1;32m----> 5\u001b[1;33m     \u001b[0mresult\u001b[0m \u001b[1;33m=\u001b[0m \u001b[0mint\u001b[0m\u001b[1;33m(\u001b[0m\u001b[0msum\u001b[0m\u001b[1;33m(\u001b[0m\u001b[0mvector1\u001b[0m\u001b[1;33m[\u001b[0m\u001b[0mi\u001b[0m\u001b[1;33m]\u001b[0m \u001b[1;33m*\u001b[0m \u001b[0mvector2\u001b[0m\u001b[1;33m[\u001b[0m\u001b[0mi\u001b[0m\u001b[1;33m]\u001b[0m \u001b[1;32mfor\u001b[0m \u001b[0mi\u001b[0m \u001b[1;32min\u001b[0m \u001b[0mrange\u001b[0m\u001b[1;33m(\u001b[0m\u001b[0mlen\u001b[0m\u001b[1;33m(\u001b[0m\u001b[0mvector1\u001b[0m\u001b[1;33m)\u001b[0m\u001b[1;33m)\u001b[0m\u001b[1;33m)\u001b[0m\u001b[1;33m)\u001b[0m\u001b[1;33m\u001b[0m\u001b[1;33m\u001b[0m\u001b[0m\n\u001b[0m\u001b[0;32m      6\u001b[0m     \u001b[1;32mreturn\u001b[0m \u001b[0mresult\u001b[0m\u001b[1;33m\u001b[0m\u001b[1;33m\u001b[0m\u001b[0m\n\u001b[0;32m      7\u001b[0m \u001b[1;33m\u001b[0m\u001b[0m\n",
      "\u001b[1;32m~\\AppData\\Local\\Temp\\ipykernel_8148\\3552910960.py\u001b[0m in \u001b[0;36m<genexpr>\u001b[1;34m(.0)\u001b[0m\n\u001b[0;32m      3\u001b[0m         \u001b[1;32mraise\u001b[0m \u001b[0mValueError\u001b[0m\u001b[1;33m(\u001b[0m\u001b[1;34m\"Both vectors must have the same number of elements.\"\u001b[0m\u001b[1;33m)\u001b[0m\u001b[1;33m\u001b[0m\u001b[1;33m\u001b[0m\u001b[0m\n\u001b[0;32m      4\u001b[0m \u001b[1;33m\u001b[0m\u001b[0m\n\u001b[1;32m----> 5\u001b[1;33m     \u001b[0mresult\u001b[0m \u001b[1;33m=\u001b[0m \u001b[0mint\u001b[0m\u001b[1;33m(\u001b[0m\u001b[0msum\u001b[0m\u001b[1;33m(\u001b[0m\u001b[0mvector1\u001b[0m\u001b[1;33m[\u001b[0m\u001b[0mi\u001b[0m\u001b[1;33m]\u001b[0m \u001b[1;33m*\u001b[0m \u001b[0mvector2\u001b[0m\u001b[1;33m[\u001b[0m\u001b[0mi\u001b[0m\u001b[1;33m]\u001b[0m \u001b[1;32mfor\u001b[0m \u001b[0mi\u001b[0m \u001b[1;32min\u001b[0m \u001b[0mrange\u001b[0m\u001b[1;33m(\u001b[0m\u001b[0mlen\u001b[0m\u001b[1;33m(\u001b[0m\u001b[0mvector1\u001b[0m\u001b[1;33m)\u001b[0m\u001b[1;33m)\u001b[0m\u001b[1;33m)\u001b[0m\u001b[1;33m)\u001b[0m\u001b[1;33m\u001b[0m\u001b[1;33m\u001b[0m\u001b[0m\n\u001b[0m\u001b[0;32m      6\u001b[0m     \u001b[1;32mreturn\u001b[0m \u001b[0mresult\u001b[0m\u001b[1;33m\u001b[0m\u001b[1;33m\u001b[0m\u001b[0m\n\u001b[0;32m      7\u001b[0m \u001b[1;33m\u001b[0m\u001b[0m\n",
      "\u001b[1;31mTypeError\u001b[0m: can't multiply sequence by non-int of type 'list'"
     ]
    }
   ],
   "source": [
    "def dot_product(vector1, vector2):\n",
    "    if len(vector1) != len(vector2):\n",
    "        raise ValueError(\"Both vectors must have the same number of elements.\")\n",
    "\n",
    "    result = int(sum(vector1[i] * vector2[i] for i in range(len(vector1))))\n",
    "    return result\n",
    "\n",
    "def input_matrix():\n",
    "    matrix = []\n",
    "    print(\"Enter elements for a 3x3 matrix:\")\n",
    "    for i in range(3):\n",
    "        row = []\n",
    "        for j in range(3):\n",
    "            element = float(input(f\"Enter element at row {i + 1}, column {j + 1}: \"))\n",
    "            row.append(element)\n",
    "        matrix.append(row)\n",
    "    return matrix\n",
    "\n",
    "print(\"Enter elements for the first 3x3 matrix:\")\n",
    "vector1 = input_matrix()\n",
    "\n",
    "print(\"Enter elements for the second 3x3 matrix:\")\n",
    "vector2 = input_matrix()\n",
    "    # Calculate the dot product\n",
    "result = dot_product(vector1, vector2)\n",
    "print(f\"The dot product of the two vectors is: {result}\")\n"
   ]
  },
  {
   "cell_type": "code",
   "execution_count": null,
   "id": "11971e47",
   "metadata": {},
   "outputs": [],
   "source": []
  }
 ],
 "metadata": {
  "kernelspec": {
   "display_name": "Python 3 (ipykernel)",
   "language": "python",
   "name": "python3"
  },
  "language_info": {
   "codemirror_mode": {
    "name": "ipython",
    "version": 3
   },
   "file_extension": ".py",
   "mimetype": "text/x-python",
   "name": "python",
   "nbconvert_exporter": "python",
   "pygments_lexer": "ipython3",
   "version": "3.9.13"
  }
 },
 "nbformat": 4,
 "nbformat_minor": 5
}
