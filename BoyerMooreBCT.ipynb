{
 "cells": [
  {
   "cell_type": "code",
   "execution_count": 3,
   "id": "34b8bc6a-2693-4500-94c3-e0a402498a8b",
   "metadata": {},
   "outputs": [
    {
     "name": "stdout",
     "output_type": "stream",
     "text": [
      "Pattern found at index 10\n"
     ]
    }
   ],
   "source": [
    "def boyer_moore_search(text, pattern):\n",
    "    def bad_character_table(pattern):\n",
    "        table = {}\n",
    "        m = len(pattern)\n",
    "        for i in range(m - 1):\n",
    "            table[pattern[i]] = m - 1 - i\n",
    "        return table\n",
    "\n",
    "    def good_suffix_table(pattern):\n",
    "        m = len(pattern)\n",
    "        suffixes = [0] * m\n",
    "        border = 0\n",
    "\n",
    "        for i in range(m - 1, -1, -1):\n",
    "            while border > 0 and pattern[i] != pattern[m - 1 - border]:\n",
    "                border = m - 1 - suffixes[m - 1 - border]\n",
    "\n",
    "            if pattern[i] == pattern[m - 1 - border]:\n",
    "                border += 1\n",
    "\n",
    "            suffixes[i] = border\n",
    "\n",
    "        return suffixes\n",
    "\n",
    "    def preprocess_pattern(pattern):\n",
    "        bad_char_table = bad_character_table(pattern)\n",
    "        return bad_char_table\n",
    "\n",
    "    def find_best_shift(bad_char_shift, mismatch_index):\n",
    "        bad_char_shift_value = bad_char_shift.get(text[mismatch_index], len(pattern))\n",
    "        return bad_char_shift_value\n",
    "\n",
    "    def search():\n",
    "        n = len(text)\n",
    "        m = len(pattern)\n",
    "        bad_char_shift, good_suffix_shift = preprocess_pattern(pattern)\n",
    "\n",
    "        i = 0\n",
    "        while i <= n - m:\n",
    "            j = m - 1\n",
    "\n",
    "            while j >= 0 and pattern[j] == text[i + j]:\n",
    "                j -= 1\n",
    "\n",
    "            if j < 0:\n",
    "                # Pattern found\n",
    "                return i\n",
    "\n",
    "            shift = find_best_shift(bad_char_shift, good_suffix_shift, j)\n",
    "\n",
    "            i += shift\n",
    "\n",
    "        return -1  # Pattern not found\n",
    "\n",
    "    return search()\n",
    "\n",
    "\n",
    "# Example usage:\n",
    "text = \"ababcababcabcabc\"\n",
    "pattern = \"abcabc\"\n",
    "result = boyer_moore_search(text, pattern)\n",
    "\n",
    "if result != -1:\n",
    "    print(f\"Pattern found at index {result}\")\n",
    "else:\n",
    "    print(\"Pattern not found\")\n"
   ]
  },
  {
   "cell_type": "code",
   "execution_count": null,
   "id": "8f276140-d9cd-4ce7-aa87-9b3131c1da2f",
   "metadata": {},
   "outputs": [],
   "source": []
  }
 ],
 "metadata": {
  "kernelspec": {
   "display_name": "Python 3 (ipykernel)",
   "language": "python",
   "name": "python3"
  },
  "language_info": {
   "codemirror_mode": {
    "name": "ipython",
    "version": 3
   },
   "file_extension": ".py",
   "mimetype": "text/x-python",
   "name": "python",
   "nbconvert_exporter": "python",
   "pygments_lexer": "ipython3",
   "version": "3.10.6"
  }
 },
 "nbformat": 4,
 "nbformat_minor": 5
}
