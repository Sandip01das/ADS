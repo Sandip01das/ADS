{
 "cells": [
  {
   "cell_type": "code",
   "execution_count": 2,
   "id": "7b1cd184-5884-4ba2-9c8f-5bb2c711b80d",
   "metadata": {},
   "outputs": [
    {
     "name": "stdout",
     "output_type": "stream",
     "text": [
      "Length of LCS: 4\n",
      "LCS: BDAB\n"
     ]
    }
   ],
   "source": [
    "def lcs(X, Y):\n",
    "    m, n = len(X), len(Y)\n",
    "    dp = [[0] * (n + 1) for _ in range(m + 1)]\n",
    "\n",
    "    for i in range(1, m + 1):\n",
    "        for j in range(1, n + 1):\n",
    "            if X[i - 1] == Y[j - 1]:\n",
    "                dp[i][j] = dp[i - 1][j - 1] + 1\n",
    "            else:\n",
    "                dp[i][j] = max(dp[i - 1][j], dp[i][j - 1])\n",
    "\n",
    "    # Reconstruct the LCS\n",
    "    lcs_length = dp[m][n]\n",
    "    lcs_sequence = [\"\"] * lcs_length\n",
    "    i, j = m, n\n",
    "\n",
    "    while i > 0 and j > 0:\n",
    "        if X[i - 1] == Y[j - 1]:\n",
    "            lcs_length -= 1\n",
    "            lcs_sequence[lcs_length] = X[i - 1]\n",
    "            i -= 1\n",
    "            j -= 1\n",
    "        elif dp[i - 1][j] > dp[i][j - 1]:\n",
    "            i -= 1\n",
    "        else:\n",
    "            j -= 1\n",
    "\n",
    "    return \"\".join(lcs_sequence)\n",
    "\n",
    "# Example usage:\n",
    "X = \"ABCBDAB\"\n",
    "Y = \"BDCAB\"\n",
    "result = lcs(X, Y)\n",
    "print(f\"Length of LCS: {len(result)}\")\n",
    "print(f\"LCS: {result}\")\n",
    "\n"
   ]
  },
  {
   "cell_type": "code",
   "execution_count": null,
   "id": "e693c031-08cd-469a-90ae-17dd24e9ca97",
   "metadata": {},
   "outputs": [],
   "source": []
  }
 ],
 "metadata": {
  "kernelspec": {
   "display_name": "Python 3 (ipykernel)",
   "language": "python",
   "name": "python3"
  },
  "language_info": {
   "codemirror_mode": {
    "name": "ipython",
    "version": 3
   },
   "file_extension": ".py",
   "mimetype": "text/x-python",
   "name": "python",
   "nbconvert_exporter": "python",
   "pygments_lexer": "ipython3",
   "version": "3.10.6"
  }
 },
 "nbformat": 4,
 "nbformat_minor": 5
}
